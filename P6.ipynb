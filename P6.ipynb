{
  "nbformat": 4,
  "nbformat_minor": 0,
  "metadata": {
    "colab": {
      "provenance": [],
      "authorship_tag": "ABX9TyP2bihqARaCN9h81TbewnJ/",
      "include_colab_link": true
    },
    "kernelspec": {
      "name": "python3",
      "display_name": "Python 3"
    },
    "language_info": {
      "name": "python"
    }
  },
  "cells": [
    {
      "cell_type": "markdown",
      "metadata": {
        "id": "view-in-github",
        "colab_type": "text"
      },
      "source": [
        "<a href=\"https://colab.research.google.com/github/sharanbalu/Student-database/blob/main/P6.ipynb\" target=\"_parent\"><img src=\"https://colab.research.google.com/assets/colab-badge.svg\" alt=\"Open In Colab\"/></a>"
      ]
    },
    {
      "cell_type": "code",
      "source": [
        "# Initialize empty list for to add students\n",
        "students = {}\n",
        "\n",
        "# Module 1\n",
        "\n",
        "# Add student details\n",
        "def add_student_details(student_id, name, aadhar_card_number, parent_name, phone_number, class_name, section):\n",
        "    # Create a dictionary for the student details\n",
        "  student = {\n",
        "    {\"student_id\":107,\n",
        "        \"name\": 'jhone',\n",
        "        \"aadhar_card_number\":345789048,\n",
        "        \"parent_name\":'Devil',\n",
        "        \"phone_number\":38576937,\n",
        "        \"class\":12,\n",
        "        \"section\":'A',\n",
        "        \"marks\": {\n",
        "            \"math\": {\"quarterly\":55, \"half_yearly\": 70, \"annual\":80},\n",
        "            \"science\": {\"quarterly\":47, \"half_yearly\": 80, \"annual\":90},\n",
        "            \"social\": {\"quarterly\": 77, \"half_yearly\": 88, \"annual\": 89},\n",
        "            \"language\": {\"quarterly\": 90, \"half_yearly\": 85, \"annual\": 99}\n",
        "        }\n",
        "      },\n",
        "    \n",
        "        {\n",
        "        \"student_id\":106,\n",
        "        \"name\": 'Sundar',\n",
        "        \"aadhar_card_number\":9864048,\n",
        "        \"parent_name\":'jayaram',\n",
        "        \"phone_number\":99558163,\n",
        "        \"class\":12,\n",
        "        \"section\":'B',\n",
        "        \"marks\": {\n",
        "            \"math\": {\"quarterly\":30, \"half_yearly\": 40, \"annual\":70},\n",
        "            \"science\": {\"quarterly\":47, \"half_yearly\": 77, \"annual\":80},\n",
        "            \"social\": {\"quarterly\": 87, \"half_yearly\": 68, \"annual\": 79},\n",
        "            \"language\": {\"quarterly\": 90, \"half_yearly\": 85, \"annual\": 99}\n",
        "        }\n",
        "        \n",
        "    }\n",
        "\n",
        "  }\n",
        "  \n",
        "  # Add the student details to the students dictionary\n",
        "  students[student_id] = student\n",
        "  student\n",
        "  print(\"Student details added successfully.\")"
      ],
      "metadata": {
        "id": "zr9YGecQECjv"
      },
      "execution_count": 19,
      "outputs": []
    },
    {
      "cell_type": "code",
      "source": [
        "# View student details\n",
        "def view_student_details(student_id):\n",
        "    # Check if the student ID exists in the dictionary\n",
        "    if student_id in students:\n",
        "        print(\"Student Details:\")\n",
        "        print(students[student_id])\n",
        "    else:\n",
        "        print(\"Student with ID {} not found.\".format(student_id))\n"
      ],
      "metadata": {
        "id": "NkePIhYoUjUc"
      },
      "execution_count": 11,
      "outputs": []
    },
    {
      "cell_type": "code",
      "source": [
        "# Update student details \n",
        "def update_student_details(student_id, field, new_value):\n",
        "    # Check if the student ID exists in the dictionary\n",
        "    if student_id in students:\n",
        "        # Check if the field exists in the student details dictionary\n",
        "        if field in students[student_id]:\n",
        "            students[106][\"phone_number\"] = 9904587465\n",
        "            print(\"Student details updated successfully.\")\n",
        "        else:\n",
        "            print(\"Invalid field. Please enter a valid field.\")\n",
        "    else:\n",
        "        print(\"Student with ID {} not found.\".format(student_id))"
      ],
      "metadata": {
        "id": "LKGDkl7nX_ju"
      },
      "execution_count": 12,
      "outputs": []
    },
    {
      "cell_type": "code",
      "source": [
        "# Delete student details\n",
        "def delete_student_details(student_id):\n",
        "    # Check if the student ID exists in the dictionary\n",
        "    if student_id in students:\n",
        "        del students[107]\n",
        "        print(\"Student details deleted successfully.\")\n",
        "    else:\n",
        "        print(\"Student with ID {} not found.\".format(student_id))\n"
      ],
      "metadata": {
        "id": "DfYaOeGgYGWA"
      },
      "execution_count": null,
      "outputs": []
    },
    {
      "cell_type": "code",
      "source": [
        "# Module 2: Teacher Operations\n",
        "\n",
        "# Enter marks of students using ID\n",
        "def enter_student_marks(student_id, subject, quarterly_marks, half_yearly_marks, annual_marks):\n",
        "    # Check if the student ID exists in the dictionary\n",
        "    if student_id in students:\n",
        "        # Check if the subject exists in the student marks dictionary\n",
        "        if subject in students[student_id][\"marks\"]:\n",
        "            students[student_id][\"marks\"][ \"math\"][\"quarterly\"] = quarterly_marks\n",
        "            students[student_id][\"marks\"][\"science\"][\"half_yearly\"] = half_yearly_marks\n",
        "            students[student_id][\"marks\"][\"social\"][\"annual\"] = annual_marks\n",
        "            print(\"Marks entered successfully.\")\n",
        "        else:\n",
        "            print(\"Invalid subject. Please enter a valid subject.\")\n",
        "    else:\n",
        "        print(\"Student with ID {} not found.\".format(student_id))\n",
        "\n",
        "def filter_failed_students(subject):\n",
        "    failed_students = []\n",
        "    # Check if the subject exists in the marks dictionary of any student\n",
        "    if subject in students[\"101\"][\"marks\"]:\n",
        "        # Iterate through the students dictionary and check for failed students\n",
        "        for student_id, student in students.items():\n",
        "            if (student[\"marks\"][\"maths\"][\"quarterly\"] is not None and student[\"marks\"][\"social\"][\"quarterly\"] < 35) or (student[\"marks\"][\"science\"][\"half_yearly\"] is not None and student[\"marks\"][\"science\"][\"half_yearly\"] < 35) or (student[\"marks\"][\"language\"][\"annual\"] is not None and student[\"marks\"][\"language\"][\"annual\"] < 35):\n",
        "                failed_students.append(student_id)\n",
        "    return failed_students\n"
      ],
      "metadata": {
        "id": "JQ0rHEB3YMsR"
      },
      "execution_count": 17,
      "outputs": []
    }
  ]
}